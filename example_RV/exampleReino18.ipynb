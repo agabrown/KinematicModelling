{
 "cells": [
  {
   "cell_type": "markdown",
   "metadata": {},
   "source": [
    "# Mean velocity of the Hyades cluster\n",
    "\n",
    "The method was applied in Reino et al. (2018) consists of an iterative maximum-likelihood procedure \n",
    "to derive improved parallaxes for individual stars from their proper motions\n",
    "and radial velocities by kinematically modelling the cluster.\n",
    "\n",
    "Our method builds upon the maximum-likelihood method developed by Lindegren et al. (2000).\n",
    "Whereas Lindegren et al. (2000), being interested in deriving astrometric radial velocities (see also Dravins et al. 1999), formulated their model in terms of proper motions as main observables, we generalised this to include measured, spectroscopic radial velocities:\n",
    "\n",
    "1. We added radial velocity, whenever available, as fourth observable, besides trigonometric parallax and proper motion;\n",
    "\n",
    "2. We made a transition from the statistic used in Lindegren et al. (2000) and denoted as $g$, to a $p$ value as a goodness-of-fit statistic;\n",
    "\n",
    "3. We used a mixed three- and four-dimensional likelihood function so that both stars with and without known radial velocity can be treated simultaneously.\n",
    "\n",
    "More details on the implementation of the method can be found in Reino et al. (2018), Section 5."
   ]
  },
  {
   "cell_type": "code",
   "execution_count": 3,
   "metadata": {
    "collapsed": true
   },
   "outputs": [],
   "source": [
    "import matplotlib.pyplot as plt\n",
    "import numpy as np\n",
    "from matplotlib import rc\n",
    "\n",
    "\n",
    "from covmatrix import *\n",
    "from minim_rv import *\n",
    "rc('text', usetex = True)\n",
    "rc('font', family = 'serif', weight = 'normal', size =15)"
   ]
  },
  {
   "cell_type": "code",
   "execution_count": 4,
   "metadata": {
    "collapsed": true
   },
   "outputs": [],
   "source": [
    "def read_gaia(filename):\n",
    "    data = np.genfromtxt('members_rv.bin', delimiter  = ',', names = True)\n",
    "    N = len(data)\n",
    "    ID = np.array(data['source_id'], dtype= int)\n",
    "    w = np.where(ID == 0)\n",
    "    ID[w] = data['HIP'][w]\n",
    "\n",
    "    deg2rad = np.pi/180.\n",
    "    coords = np.zeros((N, 2))\n",
    "    coords[:, 0] = data['ra']*deg2rad\n",
    "    coords[:, 1] = data['dec']*deg2rad\n",
    "\n",
    "    obs  = np.zeros((N, 3))\n",
    "    obs[:, 0] = data['parallax']\n",
    "    obs[:, 1] = data['pmra']\n",
    "    obs[:, 2] = data['pmdec']\n",
    "\n",
    "\n",
    "    err = np.zeros((N, 3))\n",
    "    err[:, 0] = data['parallax_error']\n",
    "    err[:, 1] = data['pmra_error']\n",
    "    err[:, 2] = data['pmdec_error']\n",
    "\n",
    "    vrad = data['RV']\n",
    "    err_vrad = data['e_RV']\n",
    "\n",
    "    corr = np.zeros((N, 3))\n",
    "    corr[:, 0] = data['parallax_pmra_corr']\n",
    "    corr[:, 1] = data['parallax_pmdec_corr']\n",
    "    corr[:, 2] = data['pmra_pmdec_corr']\n",
    "\n",
    "    bminv = data['BV']\n",
    "    vmag = data['Vmag']\n",
    "    \n",
    "    \n",
    "    return ID, coords, obs, err, vrad, err_vrad, corr, N"
   ]
  },
  {
   "cell_type": "code",
   "execution_count": 5,
   "metadata": {
    "collapsed": true
   },
   "outputs": [],
   "source": [
    "filename = 'members_rv.bin'\n",
    "ID, coords, obs_astro, err_astro, vrad, err_vrad, corr, N = read_gaia(filename)"
   ]
  },
  {
   "cell_type": "markdown",
   "metadata": {},
   "source": [
    "When the radial velocity is not available, RV = nan."
   ]
  },
  {
   "cell_type": "markdown",
   "metadata": {},
   "source": [
    "Initial guesses for the cartesian equatorial velocity and the dispersion for the **Hyades** cluster (units are km/s):"
   ]
  },
  {
   "cell_type": "code",
   "execution_count": 7,
   "metadata": {
    "collapsed": true
   },
   "outputs": [],
   "source": [
    "vx, vy, vz = -6.32,   45.24,  5.3 \n",
    "sigmav = 0.3                      \n",
    "initial_guesses = np.concatenate((obs_astro[:, 0], np.array([vx, vy, vz, sigmav])))"
   ]
  },
  {
   "cell_type": "markdown",
   "metadata": {},
   "source": [
    "First iteration. This is the same as in the *standard* procedure (without radial velocities)."
   ]
  },
  {
   "cell_type": "code",
   "execution_count": 8,
   "metadata": {},
   "outputs": [
    {
     "name": "stdout",
     "output_type": "stream",
     "text": [
      "Optimization terminated successfully.\n",
      "         Current function value: 3868.103484\n",
      "         Iterations: 22\n",
      "         Function evaluations: 25\n",
      "         Gradient evaluations: 380\n",
      "         Hessian evaluations: 0\n"
     ]
    }
   ],
   "source": [
    "grad = 'YES'\n",
    "method = 'Newton-CG'\n",
    "\n",
    "result, nit = optimizer(grad, method, initial_guesses, coords[:, 0], coords[: ,1],\n",
    "                        obs_astro[:,0], obs_astro[:,1], obs_astro[:,2], \n",
    "                        vrad, err_astro, err_vrad, \n",
    "                        corr, N)"
   ]
  },
  {
   "cell_type": "code",
   "execution_count": 9,
   "metadata": {
    "collapsed": true
   },
   "outputs": [],
   "source": [
    "cl_fin = g_func(result, coords[:, 0], coords[:, 1], \n",
    "                obs_astro[:,0], obs_astro[:,1], obs_astro[:,2], \n",
    "                vrad, err_astro, err_vrad, corr, N)\n",
    "cl_in =  g_func(initial_guesses, coords[:, 0], coords[:, 1], \n",
    "                obs_astro[:,0], obs_astro[:,1], obs_astro[:,2], \n",
    "                vrad, err_astro, err_vrad, corr, N)\n"
   ]
  },
  {
   "cell_type": "code",
   "execution_count": 10,
   "metadata": {},
   "outputs": [
    {
     "name": "stdout",
     "output_type": "stream",
     "text": [
      "vx:  -5.87 vy:  45.56 vz:  5.48 sigma_v:  0.96\n",
      "sigma_vx:  0.07 sigma_vy:  0.09 sigma_vz:  0.1 sigma_sigmav:  0.03\n",
      "Min CL value:  9.7e-06\n"
     ]
    }
   ],
   "source": [
    "H =  stella_Nmatrix_full(result, coords[:, 0], coords[:, 0], \n",
    "                         obs_astro[:,0], obs_astro[:,1], obs_astro[:,2], \n",
    "                         vrad, err_astro, err_vrad, corr, N)\n",
    "invH =  np.linalg.inv(H)\n",
    "err = np.zeros(N+4)\n",
    "for i in range(N+4):\n",
    "    err[i] = np.sqrt(invH[i,i])\n",
    "\n",
    "print( 'vx: ',np.round(result[-4], 2), 'vy: ',np.round(result[-3],2),\n",
    "      'vz: ', np.round(result[-2],2), 'sigma_v: ', np.round(result[-1], 2))\n",
    "\n",
    "print( 'sigma_vx: ',np.round(err[-4], 2), 'sigma_vy: ',np.round(err[-3],2),\n",
    "      'sigma_vz: ', np.round(err[-2],2), 'sigma_sigmav: ', np.round(err[-1], 2))\n",
    "\n",
    "cl_fin_min = np.min(cl_fin)\n",
    "print('Min CL value: ', np.round(cl_fin_min, 7))"
   ]
  },
  {
   "cell_type": "code",
   "execution_count": null,
   "metadata": {
    "collapsed": true
   },
   "outputs": [],
   "source": [
    "cl_lim = 1-0.9973\n",
    "while (cl_fin_min < cl_lim):\n",
    "    N_survive = len(cl_fin[cl_fin > cl_fin_min])\n",
    "    print('New N value: ', N_survive)\n",
    "\n",
    "    ### Define new arrays with stars surviving the selection criterion\n",
    "    coord_sel = np.zeros((N_survive, 2))\n",
    "    astro_sel = np.zeros((N_survive, 3))\n",
    "    vrad_sel = np.zeros(N_survive)\n",
    "    err_sel, err_vrad_sel, corr_sel = np.zeros((N_survive, 3)), np.zeros(N_survive), np.zeros((N_survive, 3))\n",
    "    ID_sel = np.zeros(N_survive)\n",
    "\n",
    "\n",
    "    coord_sel[:, 0], coord_sel[:, 1] = coords[cl_fin > cl_fin_min, 0], coords[cl_fin > cl_fin_min, 1]\n",
    "    astro_sel[:, 0], astro_sel[:, 1], astro_sel[:, 2] = obs_astro[cl_fin > cl_fin_min,0],\\\n",
    "                                                        obs_astro[cl_fin > cl_fin_min,1], \\\n",
    "                                                        obs_astro[cl_fin > cl_fin_min,2], \n",
    "    \n",
    "    vrad_sel = vrad[cl_fin > cl_fin_min]\n",
    "    \n",
    "    err_sel[:, 0], err_sel[:, 1], err_sel[:, 2], err_vrad_sel = err_astro[cl_fin > cl_fin_min,0], \\\n",
    "                                                                err_astro[cl_fin > cl_fin_min,1],\\\n",
    "                                                                err_astro[cl_fin > cl_fin_min,2], \\\n",
    "                                                                err_vrad[cl_fin > cl_fin_min]\n",
    "    corr_sel[:, 0], corr_sel[:, 1], corr_sel[:, 2] = corr[cl_fin > cl_fin_min,0], corr[cl_fin > cl_fin_min,1], \\\n",
    "                                                     corr[cl_fin > cl_fin_min,2] \n",
    "    \n",
    "    ID_sel = ID[cl_fin > cl_fin_min]\n",
    "\n",
    "    ID_reject = ID[(cl_fin <= cl_fin_min)][0]\n",
    "    print('ID of excluded star: ', ID[(cl_fin <= cl_fin_min)])\n",
    "\n",
    "    \n",
    "    ### Minimize likelihood\n",
    "    N = N_survive\n",
    "    initial_guesses_sel =  np.concatenate((astro_sel[:, 0], np.array([vx, vy, vz, sigmav])))\n",
    "    result, nit_sel = optimizer(grad, method, initial_guesses_sel, coord_sel[:, 0], coord_sel[:, 1], \n",
    "                                astro_sel[:, 0], astro_sel[:, 1], astro_sel[:, 2], vrad_sel, \n",
    "                                err_sel, err_vrad_sel, corr_sel, N)\n",
    "    cl_fin = g_func(result, coord_sel[:, 0], coord_sel[:, 1], \n",
    "                                astro_sel[:, 0], astro_sel[:, 1], astro_sel[:, 2], vrad_sel, \n",
    "                                err_sel, err_vrad_sel, corr_sel, N)\n",
    "\n",
    "    cl_fin_min = np.min(cl_fin)\n",
    "\n",
    "\n",
    "    ### Compute errors on quantities.\n",
    "    H =  stella_Nmatrix_full(result, coord_sel[:,0], \n",
    "                             coord_sel[:,0], astro_sel[:, 0], astro_sel[:, 1], astro_sel[:, 2],\n",
    "                             vrad_sel, err_sel, err_vrad_sel, corr_sel, N)\n",
    "    invH =  np.linalg.inv(H)\n",
    "\n",
    "    err_param = np.zeros(N+4)\n",
    "    for i in range(N+4):\n",
    "        err_param[i] = np.sqrt(invH[i,i])\n",
    "\n",
    "    ### Upload initial values\n",
    "    coords = np.zeros((N, 2))\n",
    "    obs_astro, err_astro, corr  = np.zeros((N, 3)), np.zeros((N, 3)), np.zeros((N, 3))\n",
    "    coords[:, 0], coords[:,1] = coord_sel[: ,0], coord_sel[:, 1]\n",
    "    obs_astro[:, 0], obs_astro[:, 1], obs_astro[:, 2] = astro_sel[:, 0], astro_sel[:, 1], astro_sel[:, 2]\n",
    "    vrad = vrad_sel\n",
    "    err_astro[:, 0], err_astro[:, 1], err_astro[:, 2], err_vrad = err_sel[:,0], err_sel[:,1], err_sel[:,2], err_vrad_sel\n",
    "    corr[:, 0], corr[:, 1], corr[:, 2] = corr_sel[:, 0], corr_sel[:, 1], corr_sel[:, 2]\n",
    "    ID = ID_sel\n",
    "\n",
    "\n",
    "    U =  Ulike(result, coord_sel[:, 0], coord_sel[:, 1],\n",
    "               astro_sel[:, 0],astro_sel[:, 1],astro_sel[:, 2], \n",
    "               vrad_sel, err_sel, err_vrad_sel, corr_sel, N)\n",
    "    \n",
    "    ### Print \n",
    "    print( 'Min CL value: ', cl_fin_min)\n",
    "    print( 'Likelihood: ', U)\n",
    "    print( 'v_x: ',result[-4], 'v_y: ',result[-3], 'v_z: ', result[-2], 'sigma_v: ', result[-1])\n",
    "\n",
    "              "
   ]
  },
  {
   "cell_type": "code",
   "execution_count": 18,
   "metadata": {},
   "outputs": [
    {
     "name": "stdout",
     "output_type": "stream",
     "text": [
      "sigma_v_x: 0.03\n",
      "sigma_v_y: 0.06\n",
      "sigma_v_z: 0.07\n",
      "sigma_sigmav 0.01\n"
     ]
    }
   ],
   "source": [
    "print('sigma_v_x:', np.round(err_param[-4], 2))\n",
    "print('sigma_v_y:', np.round(err_param[-3], 2))\n",
    "print('sigma_v_z:', np.round(err_param[-2], 2))\n",
    "print('sigma_sigmav', np.round(err_param[-1], 2))"
   ]
  },
  {
   "cell_type": "code",
   "execution_count": null,
   "metadata": {
    "collapsed": true
   },
   "outputs": [],
   "source": []
  }
 ],
 "metadata": {
  "kernelspec": {
   "display_name": "Python [conda env:anaconda3]",
   "language": "python",
   "name": "conda-env-anaconda3-py"
  },
  "language_info": {
   "codemirror_mode": {
    "name": "ipython",
    "version": 3
   },
   "file_extension": ".py",
   "mimetype": "text/x-python",
   "name": "python",
   "nbconvert_exporter": "python",
   "pygments_lexer": "ipython3",
   "version": "3.5.3"
  }
 },
 "nbformat": 4,
 "nbformat_minor": 2
}
